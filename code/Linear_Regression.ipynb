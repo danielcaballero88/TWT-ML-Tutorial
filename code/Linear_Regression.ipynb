{
 "metadata": {
  "language_info": {
   "codemirror_mode": {
    "name": "ipython",
    "version": 3
   },
   "file_extension": ".py",
   "mimetype": "text/x-python",
   "name": "python",
   "nbconvert_exporter": "python",
   "pygments_lexer": "ipython3",
   "version": "3.8.5-final"
  },
  "orig_nbformat": 2,
  "kernelspec": {
   "name": "Python 3.8.5 64-bit ('tf': conda)",
   "display_name": "Python 3.8.5 64-bit ('tf': conda)",
   "metadata": {
    "interpreter": {
     "hash": "b43fbedeca2618afbde5cd2ef103627ff1c2625976778bd1dd1f5fed44154766"
    }
   }
  }
 },
 "nbformat": 4,
 "nbformat_minor": 2,
 "cells": [
  {
   "source": [
    "# Linear Regression pt. 1"
   ],
   "cell_type": "markdown",
   "metadata": {}
  },
  {
   "cell_type": "code",
   "execution_count": 26,
   "metadata": {},
   "outputs": [],
   "source": [
    "import pandas as pd\n",
    "import numpy as np\n",
    "import sklearn\n",
    "from sklearn import linear_model\n",
    "from sklearn.utils import shuffle\n",
    "import os"
   ]
  },
  {
   "cell_type": "code",
   "execution_count": 27,
   "metadata": {},
   "outputs": [],
   "source": [
    "# Prepare directories and paths\n",
    "dir_here = os.path.abspath(\"\")\n",
    "dir_base = os.path.dirname(dir_here)\n",
    "dir_data = os.path.join(dir_base, \"data\")\n",
    "path_data_csv = os.path.join(dir_data, \"student-mat.csv\")"
   ]
  },
  {
   "cell_type": "code",
   "execution_count": 28,
   "metadata": {},
   "outputs": [
    {
     "output_type": "stream",
     "name": "stdout",
     "text": [
      "  school sex  age address famsize Pstatus  Medu  Fedu     Mjob      Fjob  ...  \\\n0     GP   F   18       U     GT3       A     4     4  at_home   teacher  ...   \n1     GP   F   17       U     GT3       T     1     1  at_home     other  ...   \n2     GP   F   15       U     LE3       T     1     1  at_home     other  ...   \n3     GP   F   15       U     GT3       T     4     2   health  services  ...   \n4     GP   F   16       U     GT3       T     3     3    other     other  ...   \n\n  famrel freetime  goout  Dalc  Walc health absences  G1  G2  G3  \n0      4        3      4     1     1      3        6   5   6   6  \n1      5        3      3     1     1      3        4   5   5   6  \n2      4        3      2     2     3      3       10   7   8  10  \n3      3        2      2     1     1      5        2  15  14  15  \n4      4        3      2     1     2      5        4   6  10  10  \n\n[5 rows x 33 columns]\n"
     ]
    }
   ],
   "source": [
    "# Read data\n",
    "data = pd.read_csv(path_data_csv, sep=\";\")\n",
    "print(data.head())"
   ]
  },
  {
   "cell_type": "code",
   "execution_count": 29,
   "metadata": {},
   "outputs": [
    {
     "output_type": "stream",
     "name": "stdout",
     "text": [
      "   G1  G2  G3  studytime  failures  absences\n0   5   6   6          2         0         6\n1   5   5   6          2         0         4\n2   7   8  10          2         3        10\n3  15  14  15          3         0         2\n4   6  10  10          2         0         4\n"
     ]
    }
   ],
   "source": [
    "# Filter the data that interests me\n",
    "data = data[['G1', 'G2', 'G3', 'studytime', 'failures', 'absences']]\n",
    "print(data.head())"
   ]
  },
  {
   "source": [
    "## Some Nomenclature\n",
    "\n",
    "***Atributes*** are the different variables, i.e. the fields or names of the columns in the dataframe.\n",
    "\n",
    "Strictly speaking the variable to predict is not an attribute, and will have to be dropped from the dataframe.\n",
    "\n",
    "We are going to predict the variable 'G3'. "
   ],
   "cell_type": "markdown",
   "metadata": {}
  },
  {
   "source": [
    "## Data preparation"
   ],
   "cell_type": "markdown",
   "metadata": {}
  },
  {
   "source": [
    "### Select the variable to predict"
   ],
   "cell_type": "markdown",
   "metadata": {}
  },
  {
   "cell_type": "code",
   "execution_count": 30,
   "metadata": {},
   "outputs": [
    {
     "output_type": "stream",
     "name": "stdout",
     "text": [
      "x:\n[[ 5  6  2  0  6]\n [ 5  5  2  0  4]\n [ 7  8  2  3 10]\n ...\n [10  8  1  3  3]\n [11 12  1  0  0]\n [ 8  9  1  0  5]]\n---\ny:\n[ 6  6 10 15 10 15 11  6 19 15  9 12 14 11 16 14 14 10  5 10 15 15 16 12\n  8  8 11 15 11 11 12 17 16 12 15  6 18 15 11 13 11 12 18 11  9  6 11 20\n 14  7 13 13 10 11 13 10 15 15  9 16 11 11  9  9 10 15 12  6  8 16 15 10\n  5 14 11 10 10 11 10  5 12 11  6 15 10  8  6 14 10  7  8 18  6 10 14 10\n 15 10 14  8  5 17 14  6 18 11  8 18 13 16 19 10 13 19  9 16 14 13  8 13\n 15 15 13 13  8 12 11  9  0 18  0  0 12 11  0  0  0  0 12 15  0  9 11 13\n  0 11  0 11  0 10  0 14 10  0 12  8 13 10 15 12  0  7  0 10  7 12 10 16\n  0 14  0 16 10  0  9  9 11  6  9 11  8 12 17  8 12 11 11 15  9 10 13  9\n  8 10 14 15 16 10 18 10 16 10 10  6 11  9  7 13 10  7  8 13 14  8 10 15\n  4  8  8 10  6  0 17 13 14  7 15 12  9 12 14 11  9 13  6 10 13 12 11  0\n 12 12  0 12  0 18 13  8  5 15  8 10  8  8 12  8 13 11 14  0 18  8 12  9\n  0 17 10 11 10  0  9 14 11 14 10 12  9  9  8 10  8 10 12 10 11 11 19 12\n 14 15 11 15 13 18 14 11  0  8 14 16 11 10 14 18 13 12 18  8 12 10  0 13\n 11 11 13 11  0  9 10 11 13  9 11 15 15 11 16 10  9 14  8 14  0  0  0 15\n 13  0 17 10 11  0 15  0 10 14 16  9 15 13  8 13  8  8 11  9 13 11 10 16\n 13 12 10 15 12 10 13  0 10 11  9 12 11  5 19 10 15 10 15 10 14  7 10  0\n  5 10  6  0  8  0  9 16  7 10  9]\n"
     ]
    }
   ],
   "source": [
    "predict = \"G3\"\n",
    "x = np.array(data.drop([predict], 1))\n",
    "y = np.array(data[predict])\n",
    "print(\"x:\")\n",
    "print(x)\n",
    "print(\"---\")\n",
    "print(\"y:\")\n",
    "print(y)"
   ]
  },
  {
   "cell_type": "code",
   "execution_count": 31,
   "metadata": {},
   "outputs": [
    {
     "output_type": "stream",
     "name": "stdout",
     "text": [
      "(395, 5)\n---\n(395,)\n"
     ]
    }
   ],
   "source": [
    "print(x.shape)\n",
    "print(\"---\")\n",
    "print(y.shape)"
   ]
  },
  {
   "source": [
    "### Split the data between train and select batches"
   ],
   "cell_type": "markdown",
   "metadata": {}
  },
  {
   "cell_type": "code",
   "execution_count": 32,
   "metadata": {},
   "outputs": [],
   "source": [
    "x_train, x_test, y_train, y_test = sklearn.model_selection.train_test_split(x, y, test_size=0.1)"
   ]
  },
  {
   "cell_type": "code",
   "execution_count": 33,
   "metadata": {},
   "outputs": [
    {
     "output_type": "stream",
     "name": "stdout",
     "text": [
      "[[13 14  1  0  0]\n [ 7  8  2  3 10]\n [18 18  1  1 24]\n ...\n [ 7  0  2  0  0]\n [12 11  1  1 16]\n [ 5  6  2  0  6]]\n---\n[14 10 18 11 15  6 14 10 13 10 18  9 14  0  9 12  9 11 15 11  6 19 13  9\n 10 13  8 12  9 10 12 18 12 15 15  8 13 10 15 10 16  0 12 10 10  6 11 10\n 14 18 16 10  0 18 10  8  9 12 11 12 16 13  0  7 13  8 10 12 10 14 12 12\n 10 15 10  0 11 17 17 15 15 10 12  9 16  0 10 11 11 12 11 15 15 14 15 14\n 16 10 19 10  8  7  0 16  0 13 13 18 15 11 15 16 16  8 15  8 15  7 10 10\n 15 12 15  0  0 10 11 19 13 16 10 15 10 10  6 15 12 14  6  8  6 14  0 18\n 11  7 11 15  5 13 11  9 15 11  9 14 11 15  0  0 11  6  8 10 13 15  8  8\n 10 10 13  0 17  0 12 10 12 13 17 11 10 13  9 14 11 12  9  8  8  7 13 14\n  8 15  8 11  0 12  0  0 10  8 11 10 12 10 12  6 11 14  9  9 11 14 14 12\n 10 13 11 10 15 11 11 15 12  0 11  5 13 10 13 13 11 14 14  7  0  0  9 10\n  0  6  6 11 10 13  6 14 10  8 18 13 12 16  8  5 13 10 15 12 10  9 13 10\n 11  0  0  5 10 11  0 15  9  9 14  0  8  7  8 11 10  0 18  8 11  0  9 13\n 14 10 11 11  0  9  0 19 10  9 14 11 11 13 12 15  0 11  5 14  0  0 13  5\n  0  9 14 10  0 10 18 12  8 14  8 12 12 10 11 11 16 13 11  7 16 13  6 13\n 14  9  0 11  9 16 15 18 15  9 11 11  5  8 20 16  0 12  6]\n"
     ]
    }
   ],
   "source": [
    "print(x_train)\n",
    "print(\"---\")\n",
    "print(y_train)"
   ]
  },
  {
   "cell_type": "code",
   "execution_count": 34,
   "metadata": {},
   "outputs": [
    {
     "output_type": "stream",
     "name": "stdout",
     "text": [
      "(355, 5)\n---\n(355,)\n"
     ]
    }
   ],
   "source": [
    "print(x_train.shape)\n",
    "print(\"---\")\n",
    "print(y_train.shape)"
   ]
  },
  {
   "source": [
    "### Create a linear regression model"
   ],
   "cell_type": "markdown",
   "metadata": {}
  },
  {
   "cell_type": "code",
   "execution_count": 35,
   "metadata": {},
   "outputs": [],
   "source": [
    "# Create linear regression object\n",
    "linear = sklearn.linear_model.LinearRegression()"
   ]
  },
  {
   "cell_type": "code",
   "execution_count": 36,
   "metadata": {},
   "outputs": [
    {
     "output_type": "execute_result",
     "data": {
      "text/plain": [
       "LinearRegression()"
      ]
     },
     "metadata": {},
     "execution_count": 36
    }
   ],
   "source": [
    "# Fit linear regression to the train data\n",
    "linear.fit(x_train, y_train) \n",
    "# The fit is stored in the linear object already created"
   ]
  },
  {
   "cell_type": "code",
   "execution_count": 37,
   "metadata": {},
   "outputs": [
    {
     "output_type": "stream",
     "name": "stdout",
     "text": [
      "0.7958668509988149\n"
     ]
    }
   ],
   "source": [
    "# Check accuracy with the test data\n",
    "acc = linear.score(x_test, y_test)\n",
    "print(acc)"
   ]
  },
  {
   "source": [
    "We get a 79% accuracy.\n",
    "\n",
    "For the case that's decent enough."
   ],
   "cell_type": "markdown",
   "metadata": {}
  },
  {
   "source": [
    "### Check the linear regression"
   ],
   "cell_type": "markdown",
   "metadata": {}
  },
  {
   "cell_type": "code",
   "execution_count": 40,
   "metadata": {},
   "outputs": [
    {
     "output_type": "stream",
     "name": "stdout",
     "text": [
      "Coefficients: [ 0.1507054   0.97811518 -0.14668034 -0.27418046  0.0422737 ]\nIntercept: -1.5683400317954241\n"
     ]
    }
   ],
   "source": [
    "# Check the coefficients\n",
    "print(f\"Coefficients: {linear.coef_}\")\n",
    "print(f\"Intercept: {linear.intercept_}\")"
   ]
  },
  {
   "cell_type": "code",
   "execution_count": 50,
   "metadata": {},
   "outputs": [
    {
     "output_type": "stream",
     "name": "stdout",
     "text": [
      "08 ; 08.386 ; [10  9  3  0  2]\n11 ; 09.757 ; [ 7 10  2  1 25]\n09 ; 08.471 ; [10  9  3  0  4]\n00 ; 09.129 ; [ 9 10  3  0  0]\n10 ; 08.632 ; [8 9 1 0 8]\n08 ; 08.036 ; [ 6  9  1  2 14]\n13 ; 14.664 ; [15 14  2  1 20]\n09 ; 09.211 ; [10  9  3  1 28]\n08 ; 10.665 ; [ 9  9  2  0 56]\n15 ; 15.075 ; [16 15  3  0  0]\n13 ; 12.747 ; [12 13  2  0  2]\n10 ; 10.600 ; [11 11  4  0  8]\n14 ; 12.666 ; [13 13  3  0  0]\n18 ; 17.035 ; [17 17  4  0  0]\n12 ; 11.645 ; [13 12  2  1  2]\n06 ; 05.231 ; [7 6 2 0 4]\n07 ; 07.400 ; [5 9 2 2 6]\n10 ; 07.107 ; [8 8 3 0 2]\n16 ; 15.751 ; [14 16  3  0  0]\n08 ; 07.887 ; [6 9 1 1 4]\n17 ; 16.284 ; [16 16  2  0  2]\n04 ; 05.293 ; [ 6  6  2  2 22]\n11 ; 11.063 ; [11 11  2  0 12]\n08 ; 07.953 ; [7 9 1 1 2]\n19 ; 18.156 ; [16 18  2  0  0]\n10 ; 09.511 ; [10 10  2  0  2]\n14 ; 12.788 ; [12 13  1  1  6]\n08 ; 06.249 ; [ 6  7  2  1 15]\n11 ; 09.511 ; [10 10  2  0  2]\n08 ; 07.893 ; [10  8  2  0 10]\n10 ; 10.145 ; [10 10  2  0 17]\n09 ; 09.360 ; [ 9 10  2  0  2]\n17 ; 17.178 ; [16 17  2  0  0]\n12 ; 11.614 ; [10 12  1  0  2]\n08 ; 07.210 ; [8 8 1 1 4]\n15 ; 15.644 ; [16 15  2  0 10]\n10 ; 08.467 ; [9 9 2 0 4]\n09 ; 08.598 ; [10  9  3  0  7]\n16 ; 16.284 ; [16 16  2  0  2]\n06 ; 04.187 ; [6 5 2 0 6]\n"
     ]
    }
   ],
   "source": [
    "# Check some predictions made by the model\n",
    "predictions = linear.predict(x_test)\n",
    "for k in range(len(predictions)):\n",
    "    print(f\"{y_test[k]:02d} ; {predictions[k]:06.3f} ; {x_test[k]}\")"
   ]
  },
  {
   "cell_type": "code",
   "execution_count": null,
   "metadata": {},
   "outputs": [],
   "source": []
  }
 ]
}